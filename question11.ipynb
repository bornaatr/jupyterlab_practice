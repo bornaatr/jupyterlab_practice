{
 "cells": [
  {
   "cell_type": "markdown",
   "id": "6eacd985-1d53-4edf-8ebd-a9c6b9d9890e",
   "metadata": {},
   "source": [
    "# Borna Atrchian\n",
    "Notebook for assignment 7"
   ]
  },
  {
   "cell_type": "code",
   "execution_count": 30,
   "id": "44e1c73c-8e3b-4229-9cc5-8cb9357724c0",
   "metadata": {},
   "outputs": [],
   "source": [
    "def compute_mean(list):\n",
    "    return sum(list) / len(list)\n",
    "\n",
    "list = [2,4,6,8]"
   ]
  },
  {
   "cell_type": "code",
   "execution_count": 31,
   "id": "5a096d1e-47e4-459e-b324-ba6e13adaf30",
   "metadata": {},
   "outputs": [
    {
     "data": {
      "text/plain": [
       "5.0"
      ]
     },
     "execution_count": 31,
     "metadata": {},
     "output_type": "execute_result"
    }
   ],
   "source": [
    "compute_mean(list)"
   ]
  },
  {
   "cell_type": "markdown",
   "id": "7212b5b0-961a-47ba-9c77-c79b385e6b5f",
   "metadata": {},
   "source": [
    "This function will take a list of numbers and calculate the mean of that list. Here is a formula:\n",
    "\n",
    "$$\n",
    "\\bar{x} = \\frac{x_1 + x_2 + ... + x_n}{n} = \\frac{1}{n}\\left(\\sum_{i=1}^{n} x_i \\right)\n",
    "$$"
   ]
  }
 ],
 "metadata": {
  "kernelspec": {
   "display_name": "Python 3 (ipykernel)",
   "language": "python",
   "name": "python3"
  },
  "language_info": {
   "codemirror_mode": {
    "name": "ipython",
    "version": 3
   },
   "file_extension": ".py",
   "mimetype": "text/x-python",
   "name": "python",
   "nbconvert_exporter": "python",
   "pygments_lexer": "ipython3",
   "version": "3.12.2"
  }
 },
 "nbformat": 4,
 "nbformat_minor": 5
}
